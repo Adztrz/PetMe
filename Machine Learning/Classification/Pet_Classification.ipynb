{
  "nbformat": 4,
  "nbformat_minor": 0,
  "metadata": {
    "colab": {
      "provenance": [],
      "gpuType": "T4"
    },
    "kernelspec": {
      "name": "python3",
      "display_name": "Python 3"
    },
    "language_info": {
      "name": "python"
    },
    "accelerator": "GPU"
  },
  "cells": [
    {
      "cell_type": "markdown",
      "source": [
        "# BANGKIT 2023 DESIGN CAPSTONE : PETME!\n"
      ],
      "metadata": {
        "id": "uf7FLF3PArF9"
      }
    },
    {
      "cell_type": "markdown",
      "source": [
        "Pet Animals Classification with Deep Learning and Tensorflow JS"
      ],
      "metadata": {
        "id": "kVawh_QAS0FM"
      }
    },
    {
      "cell_type": "code",
      "execution_count": 1,
      "metadata": {
        "colab": {
          "base_uri": "https://localhost:8080/"
        },
        "id": "vhUXz7kfAkOd",
        "outputId": "8a292480-b633-4acf-c45c-f7bace236174"
      },
      "outputs": [
        {
          "output_type": "stream",
          "name": "stdout",
          "text": [
            "Collecting tensorflowjs\n",
            "  Downloading tensorflowjs-4.12.0-py3-none-any.whl (89 kB)\n",
            "\u001b[?25l     \u001b[90m━━━━━━━━━━━━━━━━━━━━━━━━━━━━━━━━━━━━━━━━\u001b[0m \u001b[32m0.0/89.2 kB\u001b[0m \u001b[31m?\u001b[0m eta \u001b[36m-:--:--\u001b[0m\r\u001b[2K     \u001b[91m━━━━━━━━━━━━━━━━━━━━━━━━━━━\u001b[0m\u001b[91m╸\u001b[0m\u001b[90m━━━━━━━━━━━━\u001b[0m \u001b[32m61.4/89.2 kB\u001b[0m \u001b[31m1.9 MB/s\u001b[0m eta \u001b[36m0:00:01\u001b[0m\r\u001b[2K     \u001b[90m━━━━━━━━━━━━━━━━━━━━━━━━━━━━━━━━━━━━━━━━\u001b[0m \u001b[32m89.2/89.2 kB\u001b[0m \u001b[31m1.7 MB/s\u001b[0m eta \u001b[36m0:00:00\u001b[0m\n",
            "\u001b[?25hRequirement already satisfied: flax>=0.7.2 in /usr/local/lib/python3.10/dist-packages (from tensorflowjs) (0.7.4)\n",
            "Requirement already satisfied: importlib_resources>=5.9.0 in /usr/local/lib/python3.10/dist-packages (from tensorflowjs) (6.1.0)\n",
            "Requirement already satisfied: jax>=0.4.13 in /usr/local/lib/python3.10/dist-packages (from tensorflowjs) (0.4.16)\n",
            "Requirement already satisfied: jaxlib>=0.4.13 in /usr/local/lib/python3.10/dist-packages (from tensorflowjs) (0.4.16+cuda11.cudnn86)\n",
            "Requirement already satisfied: tensorflow<3,>=2.13.0 in /usr/local/lib/python3.10/dist-packages (from tensorflowjs) (2.14.0)\n",
            "Collecting tensorflow-decision-forests>=1.5.0 (from tensorflowjs)\n",
            "  Downloading tensorflow_decision_forests-1.7.0-cp310-cp310-manylinux_2_17_x86_64.manylinux2014_x86_64.whl (16.8 MB)\n",
            "\u001b[2K     \u001b[90m━━━━━━━━━━━━━━━━━━━━━━━━━━━━━━━━━━━━━━━━\u001b[0m \u001b[32m16.8/16.8 MB\u001b[0m \u001b[31m38.5 MB/s\u001b[0m eta \u001b[36m0:00:00\u001b[0m\n",
            "\u001b[?25hRequirement already satisfied: six<2,>=1.16.0 in /usr/local/lib/python3.10/dist-packages (from tensorflowjs) (1.16.0)\n",
            "Requirement already satisfied: tensorflow-hub>=0.14.0 in /usr/local/lib/python3.10/dist-packages (from tensorflowjs) (0.15.0)\n",
            "Requirement already satisfied: packaging~=23.1 in /usr/local/lib/python3.10/dist-packages (from tensorflowjs) (23.2)\n",
            "Requirement already satisfied: numpy>=1.12 in /usr/local/lib/python3.10/dist-packages (from flax>=0.7.2->tensorflowjs) (1.23.5)\n",
            "Requirement already satisfied: msgpack in /usr/local/lib/python3.10/dist-packages (from flax>=0.7.2->tensorflowjs) (1.0.7)\n",
            "Requirement already satisfied: optax in /usr/local/lib/python3.10/dist-packages (from flax>=0.7.2->tensorflowjs) (0.1.7)\n",
            "Requirement already satisfied: orbax-checkpoint in /usr/local/lib/python3.10/dist-packages (from flax>=0.7.2->tensorflowjs) (0.4.1)\n",
            "Requirement already satisfied: tensorstore in /usr/local/lib/python3.10/dist-packages (from flax>=0.7.2->tensorflowjs) (0.1.45)\n",
            "Requirement already satisfied: rich>=11.1 in /usr/local/lib/python3.10/dist-packages (from flax>=0.7.2->tensorflowjs) (13.6.0)\n",
            "Requirement already satisfied: typing-extensions>=4.2 in /usr/local/lib/python3.10/dist-packages (from flax>=0.7.2->tensorflowjs) (4.5.0)\n",
            "Requirement already satisfied: PyYAML>=5.4.1 in /usr/local/lib/python3.10/dist-packages (from flax>=0.7.2->tensorflowjs) (6.0.1)\n",
            "Requirement already satisfied: ml-dtypes>=0.2.0 in /usr/local/lib/python3.10/dist-packages (from jax>=0.4.13->tensorflowjs) (0.2.0)\n",
            "Requirement already satisfied: opt-einsum in /usr/local/lib/python3.10/dist-packages (from jax>=0.4.13->tensorflowjs) (3.3.0)\n",
            "Requirement already satisfied: scipy>=1.7 in /usr/local/lib/python3.10/dist-packages (from jax>=0.4.13->tensorflowjs) (1.11.3)\n",
            "Requirement already satisfied: absl-py>=1.0.0 in /usr/local/lib/python3.10/dist-packages (from tensorflow<3,>=2.13.0->tensorflowjs) (1.4.0)\n",
            "Requirement already satisfied: astunparse>=1.6.0 in /usr/local/lib/python3.10/dist-packages (from tensorflow<3,>=2.13.0->tensorflowjs) (1.6.3)\n",
            "Requirement already satisfied: flatbuffers>=23.5.26 in /usr/local/lib/python3.10/dist-packages (from tensorflow<3,>=2.13.0->tensorflowjs) (23.5.26)\n",
            "Requirement already satisfied: gast!=0.5.0,!=0.5.1,!=0.5.2,>=0.2.1 in /usr/local/lib/python3.10/dist-packages (from tensorflow<3,>=2.13.0->tensorflowjs) (0.5.4)\n",
            "Requirement already satisfied: google-pasta>=0.1.1 in /usr/local/lib/python3.10/dist-packages (from tensorflow<3,>=2.13.0->tensorflowjs) (0.2.0)\n",
            "Requirement already satisfied: h5py>=2.9.0 in /usr/local/lib/python3.10/dist-packages (from tensorflow<3,>=2.13.0->tensorflowjs) (3.9.0)\n",
            "Requirement already satisfied: libclang>=13.0.0 in /usr/local/lib/python3.10/dist-packages (from tensorflow<3,>=2.13.0->tensorflowjs) (16.0.6)\n",
            "Requirement already satisfied: protobuf!=4.21.0,!=4.21.1,!=4.21.2,!=4.21.3,!=4.21.4,!=4.21.5,<5.0.0dev,>=3.20.3 in /usr/local/lib/python3.10/dist-packages (from tensorflow<3,>=2.13.0->tensorflowjs) (3.20.3)\n",
            "Requirement already satisfied: setuptools in /usr/local/lib/python3.10/dist-packages (from tensorflow<3,>=2.13.0->tensorflowjs) (67.7.2)\n",
            "Requirement already satisfied: termcolor>=1.1.0 in /usr/local/lib/python3.10/dist-packages (from tensorflow<3,>=2.13.0->tensorflowjs) (2.3.0)\n",
            "Requirement already satisfied: wrapt<1.15,>=1.11.0 in /usr/local/lib/python3.10/dist-packages (from tensorflow<3,>=2.13.0->tensorflowjs) (1.14.1)\n",
            "Requirement already satisfied: tensorflow-io-gcs-filesystem>=0.23.1 in /usr/local/lib/python3.10/dist-packages (from tensorflow<3,>=2.13.0->tensorflowjs) (0.34.0)\n",
            "Requirement already satisfied: grpcio<2.0,>=1.24.3 in /usr/local/lib/python3.10/dist-packages (from tensorflow<3,>=2.13.0->tensorflowjs) (1.59.2)\n",
            "Requirement already satisfied: tensorboard<2.15,>=2.14 in /usr/local/lib/python3.10/dist-packages (from tensorflow<3,>=2.13.0->tensorflowjs) (2.14.1)\n",
            "Requirement already satisfied: tensorflow-estimator<2.15,>=2.14.0 in /usr/local/lib/python3.10/dist-packages (from tensorflow<3,>=2.13.0->tensorflowjs) (2.14.0)\n",
            "Requirement already satisfied: keras<2.15,>=2.14.0 in /usr/local/lib/python3.10/dist-packages (from tensorflow<3,>=2.13.0->tensorflowjs) (2.14.0)\n",
            "Requirement already satisfied: pandas in /usr/local/lib/python3.10/dist-packages (from tensorflow-decision-forests>=1.5.0->tensorflowjs) (1.5.3)\n",
            "Requirement already satisfied: wheel in /usr/local/lib/python3.10/dist-packages (from tensorflow-decision-forests>=1.5.0->tensorflowjs) (0.41.3)\n",
            "Collecting wurlitzer (from tensorflow-decision-forests>=1.5.0->tensorflowjs)\n",
            "  Downloading wurlitzer-3.0.3-py3-none-any.whl (7.3 kB)\n",
            "Requirement already satisfied: markdown-it-py>=2.2.0 in /usr/local/lib/python3.10/dist-packages (from rich>=11.1->flax>=0.7.2->tensorflowjs) (3.0.0)\n",
            "Requirement already satisfied: pygments<3.0.0,>=2.13.0 in /usr/local/lib/python3.10/dist-packages (from rich>=11.1->flax>=0.7.2->tensorflowjs) (2.16.1)\n",
            "Requirement already satisfied: google-auth<3,>=1.6.3 in /usr/local/lib/python3.10/dist-packages (from tensorboard<2.15,>=2.14->tensorflow<3,>=2.13.0->tensorflowjs) (2.17.3)\n",
            "Requirement already satisfied: google-auth-oauthlib<1.1,>=0.5 in /usr/local/lib/python3.10/dist-packages (from tensorboard<2.15,>=2.14->tensorflow<3,>=2.13.0->tensorflowjs) (1.0.0)\n",
            "Requirement already satisfied: markdown>=2.6.8 in /usr/local/lib/python3.10/dist-packages (from tensorboard<2.15,>=2.14->tensorflow<3,>=2.13.0->tensorflowjs) (3.5.1)\n",
            "Requirement already satisfied: requests<3,>=2.21.0 in /usr/local/lib/python3.10/dist-packages (from tensorboard<2.15,>=2.14->tensorflow<3,>=2.13.0->tensorflowjs) (2.31.0)\n",
            "Requirement already satisfied: tensorboard-data-server<0.8.0,>=0.7.0 in /usr/local/lib/python3.10/dist-packages (from tensorboard<2.15,>=2.14->tensorflow<3,>=2.13.0->tensorflowjs) (0.7.2)\n",
            "Requirement already satisfied: werkzeug>=1.0.1 in /usr/local/lib/python3.10/dist-packages (from tensorboard<2.15,>=2.14->tensorflow<3,>=2.13.0->tensorflowjs) (3.0.1)\n",
            "Requirement already satisfied: chex>=0.1.5 in /usr/local/lib/python3.10/dist-packages (from optax->flax>=0.7.2->tensorflowjs) (0.1.7)\n",
            "Requirement already satisfied: etils[epath,epy] in /usr/local/lib/python3.10/dist-packages (from orbax-checkpoint->flax>=0.7.2->tensorflowjs) (1.5.2)\n",
            "Requirement already satisfied: nest_asyncio in /usr/local/lib/python3.10/dist-packages (from orbax-checkpoint->flax>=0.7.2->tensorflowjs) (1.5.8)\n",
            "Requirement already satisfied: python-dateutil>=2.8.1 in /usr/local/lib/python3.10/dist-packages (from pandas->tensorflow-decision-forests>=1.5.0->tensorflowjs) (2.8.2)\n",
            "Requirement already satisfied: pytz>=2020.1 in /usr/local/lib/python3.10/dist-packages (from pandas->tensorflow-decision-forests>=1.5.0->tensorflowjs) (2023.3.post1)\n",
            "Requirement already satisfied: dm-tree>=0.1.5 in /usr/local/lib/python3.10/dist-packages (from chex>=0.1.5->optax->flax>=0.7.2->tensorflowjs) (0.1.8)\n",
            "Requirement already satisfied: toolz>=0.9.0 in /usr/local/lib/python3.10/dist-packages (from chex>=0.1.5->optax->flax>=0.7.2->tensorflowjs) (0.12.0)\n",
            "Requirement already satisfied: cachetools<6.0,>=2.0.0 in /usr/local/lib/python3.10/dist-packages (from google-auth<3,>=1.6.3->tensorboard<2.15,>=2.14->tensorflow<3,>=2.13.0->tensorflowjs) (5.3.2)\n",
            "Requirement already satisfied: pyasn1-modules>=0.2.1 in /usr/local/lib/python3.10/dist-packages (from google-auth<3,>=1.6.3->tensorboard<2.15,>=2.14->tensorflow<3,>=2.13.0->tensorflowjs) (0.3.0)\n",
            "Requirement already satisfied: rsa<5,>=3.1.4 in /usr/local/lib/python3.10/dist-packages (from google-auth<3,>=1.6.3->tensorboard<2.15,>=2.14->tensorflow<3,>=2.13.0->tensorflowjs) (4.9)\n",
            "Requirement already satisfied: requests-oauthlib>=0.7.0 in /usr/local/lib/python3.10/dist-packages (from google-auth-oauthlib<1.1,>=0.5->tensorboard<2.15,>=2.14->tensorflow<3,>=2.13.0->tensorflowjs) (1.3.1)\n",
            "Requirement already satisfied: mdurl~=0.1 in /usr/local/lib/python3.10/dist-packages (from markdown-it-py>=2.2.0->rich>=11.1->flax>=0.7.2->tensorflowjs) (0.1.2)\n",
            "Requirement already satisfied: charset-normalizer<4,>=2 in /usr/local/lib/python3.10/dist-packages (from requests<3,>=2.21.0->tensorboard<2.15,>=2.14->tensorflow<3,>=2.13.0->tensorflowjs) (3.3.2)\n",
            "Requirement already satisfied: idna<4,>=2.5 in /usr/local/lib/python3.10/dist-packages (from requests<3,>=2.21.0->tensorboard<2.15,>=2.14->tensorflow<3,>=2.13.0->tensorflowjs) (3.4)\n",
            "Requirement already satisfied: urllib3<3,>=1.21.1 in /usr/local/lib/python3.10/dist-packages (from requests<3,>=2.21.0->tensorboard<2.15,>=2.14->tensorflow<3,>=2.13.0->tensorflowjs) (2.0.7)\n",
            "Requirement already satisfied: certifi>=2017.4.17 in /usr/local/lib/python3.10/dist-packages (from requests<3,>=2.21.0->tensorboard<2.15,>=2.14->tensorflow<3,>=2.13.0->tensorflowjs) (2023.7.22)\n",
            "Requirement already satisfied: MarkupSafe>=2.1.1 in /usr/local/lib/python3.10/dist-packages (from werkzeug>=1.0.1->tensorboard<2.15,>=2.14->tensorflow<3,>=2.13.0->tensorflowjs) (2.1.3)\n",
            "Requirement already satisfied: fsspec in /usr/local/lib/python3.10/dist-packages (from etils[epath,epy]->orbax-checkpoint->flax>=0.7.2->tensorflowjs) (2023.6.0)\n",
            "Requirement already satisfied: zipp in /usr/local/lib/python3.10/dist-packages (from etils[epath,epy]->orbax-checkpoint->flax>=0.7.2->tensorflowjs) (3.17.0)\n",
            "Requirement already satisfied: pyasn1<0.6.0,>=0.4.6 in /usr/local/lib/python3.10/dist-packages (from pyasn1-modules>=0.2.1->google-auth<3,>=1.6.3->tensorboard<2.15,>=2.14->tensorflow<3,>=2.13.0->tensorflowjs) (0.5.0)\n",
            "Requirement already satisfied: oauthlib>=3.0.0 in /usr/local/lib/python3.10/dist-packages (from requests-oauthlib>=0.7.0->google-auth-oauthlib<1.1,>=0.5->tensorboard<2.15,>=2.14->tensorflow<3,>=2.13.0->tensorflowjs) (3.2.2)\n",
            "Installing collected packages: wurlitzer, tensorflow-decision-forests, tensorflowjs\n",
            "Successfully installed tensorflow-decision-forests-1.7.0 tensorflowjs-4.12.0 wurlitzer-3.0.3\n"
          ]
        }
      ],
      "source": [
        "!pip install tensorflowjs"
      ]
    },
    {
      "cell_type": "markdown",
      "source": [
        "Import Library"
      ],
      "metadata": {
        "id": "9anWdQy0BSNc"
      }
    },
    {
      "cell_type": "code",
      "source": [
        "import os\n",
        "import numpy as np\n",
        "import tensorflow as tf\n",
        "import tensorflowjs as tfjs\n",
        "import matplotlib.pyplot as plt\n",
        "\n",
        "from tensorflow.keras.applications import VGG16\n",
        "from tensorflow.keras.preprocessing.image import ImageDataGenerator\n",
        "from tensorflow.keras import Model\n",
        "from tensorflow.keras.models import Sequential\n",
        "from tensorflow.keras.layers import Flatten, Dense"
      ],
      "metadata": {
        "id": "uDYG1lvkBU1G"
      },
      "execution_count": 3,
      "outputs": []
    },
    {
      "cell_type": "code",
      "source": [
        "print (tf.__version__)"
      ],
      "metadata": {
        "colab": {
          "base_uri": "https://localhost:8080/"
        },
        "id": "iy4HaE8cBG8V",
        "outputId": "ca72d227-f026-4d80-8e3a-f41ac7fed595"
      },
      "execution_count": 4,
      "outputs": [
        {
          "output_type": "stream",
          "name": "stdout",
          "text": [
            "2.14.0\n"
          ]
        }
      ]
    },
    {
      "cell_type": "markdown",
      "source": [
        "Pre-trained Model"
      ],
      "metadata": {
        "id": "CE7qbPpBBbTN"
      }
    },
    {
      "cell_type": "code",
      "source": [
        "# Initialize pre-trained models\n",
        "pre_trained_model = VGG16(weights='imagenet', include_top=False, input_shape=(224, 224, 3))\n",
        "\n",
        "# Freezes pre-trained coating weights\n",
        "for layer in pre_trained_model.layers:\n",
        "    layer.trainable = False\n",
        "\n",
        "# Added a Dense layer for multiclass classification\n",
        "x = Flatten()(pre_trained_model.output)\n",
        "x = Dense(128, activation='relu')(x)\n",
        "x = Dense(64, activation='relu')(x)\n",
        "outputs = Dense(8, activation='softmax')(x)\n",
        "\n",
        "# Build the final model\n",
        "model = Model(inputs=pre_trained_model.input, outputs=outputs)"
      ],
      "metadata": {
        "colab": {
          "base_uri": "https://localhost:8080/"
        },
        "id": "9kZJzd7RBdwi",
        "outputId": "5a9c8e09-ee9f-4491-9380-de2abae9db07"
      },
      "execution_count": 5,
      "outputs": [
        {
          "output_type": "stream",
          "name": "stdout",
          "text": [
            "Downloading data from https://storage.googleapis.com/tensorflow/keras-applications/vgg16/vgg16_weights_tf_dim_ordering_tf_kernels_notop.h5\n",
            "58889256/58889256 [==============================] - 0s 0us/step\n"
          ]
        }
      ]
    },
    {
      "cell_type": "code",
      "source": [
        "pre_trained_model.summary()"
      ],
      "metadata": {
        "colab": {
          "base_uri": "https://localhost:8080/"
        },
        "id": "LTHufPLCBkjp",
        "outputId": "9a1d466b-c824-46b2-d4ce-3217155337e0"
      },
      "execution_count": 6,
      "outputs": [
        {
          "output_type": "stream",
          "name": "stdout",
          "text": [
            "Model: \"vgg16\"\n",
            "_________________________________________________________________\n",
            " Layer (type)                Output Shape              Param #   \n",
            "=================================================================\n",
            " input_1 (InputLayer)        [(None, 224, 224, 3)]     0         \n",
            "                                                                 \n",
            " block1_conv1 (Conv2D)       (None, 224, 224, 64)      1792      \n",
            "                                                                 \n",
            " block1_conv2 (Conv2D)       (None, 224, 224, 64)      36928     \n",
            "                                                                 \n",
            " block1_pool (MaxPooling2D)  (None, 112, 112, 64)      0         \n",
            "                                                                 \n",
            " block2_conv1 (Conv2D)       (None, 112, 112, 128)     73856     \n",
            "                                                                 \n",
            " block2_conv2 (Conv2D)       (None, 112, 112, 128)     147584    \n",
            "                                                                 \n",
            " block2_pool (MaxPooling2D)  (None, 56, 56, 128)       0         \n",
            "                                                                 \n",
            " block3_conv1 (Conv2D)       (None, 56, 56, 256)       295168    \n",
            "                                                                 \n",
            " block3_conv2 (Conv2D)       (None, 56, 56, 256)       590080    \n",
            "                                                                 \n",
            " block3_conv3 (Conv2D)       (None, 56, 56, 256)       590080    \n",
            "                                                                 \n",
            " block3_pool (MaxPooling2D)  (None, 28, 28, 256)       0         \n",
            "                                                                 \n",
            " block4_conv1 (Conv2D)       (None, 28, 28, 512)       1180160   \n",
            "                                                                 \n",
            " block4_conv2 (Conv2D)       (None, 28, 28, 512)       2359808   \n",
            "                                                                 \n",
            " block4_conv3 (Conv2D)       (None, 28, 28, 512)       2359808   \n",
            "                                                                 \n",
            " block4_pool (MaxPooling2D)  (None, 14, 14, 512)       0         \n",
            "                                                                 \n",
            " block5_conv1 (Conv2D)       (None, 14, 14, 512)       2359808   \n",
            "                                                                 \n",
            " block5_conv2 (Conv2D)       (None, 14, 14, 512)       2359808   \n",
            "                                                                 \n",
            " block5_conv3 (Conv2D)       (None, 14, 14, 512)       2359808   \n",
            "                                                                 \n",
            " block5_pool (MaxPooling2D)  (None, 7, 7, 512)         0         \n",
            "                                                                 \n",
            "=================================================================\n",
            "Total params: 14714688 (56.13 MB)\n",
            "Trainable params: 0 (0.00 Byte)\n",
            "Non-trainable params: 14714688 (56.13 MB)\n",
            "_________________________________________________________________\n"
          ]
        }
      ]
    },
    {
      "cell_type": "markdown",
      "source": [
        "Set the training parameters"
      ],
      "metadata": {
        "id": "Rohxr56UBoNN"
      }
    },
    {
      "cell_type": "code",
      "source": [
        "from keras.optimizers import Adam\n",
        "\n",
        "model.compile(optimizer = Adam(learning_rate=0.0001),\n",
        "              loss = 'categorical_crossentropy',\n",
        "              metrics = ['accuracy'])"
      ],
      "metadata": {
        "id": "um97n91nBsbM"
      },
      "execution_count": 7,
      "outputs": []
    },
    {
      "cell_type": "markdown",
      "source": [
        "Prepare the Dataset from Google Drive"
      ],
      "metadata": {
        "id": "t98XtBjJBua7"
      }
    },
    {
      "cell_type": "code",
      "source": [
        "from google.colab import drive\n",
        "drive.mount('/content/drive')"
      ],
      "metadata": {
        "colab": {
          "base_uri": "https://localhost:8080/"
        },
        "id": "bAC6xwrTB2EN",
        "outputId": "da770ca9-3dc0-4728-fb68-58fb7cbe1dbe"
      },
      "execution_count": 8,
      "outputs": [
        {
          "output_type": "stream",
          "name": "stdout",
          "text": [
            "Mounted at /content/drive\n"
          ]
        }
      ]
    },
    {
      "cell_type": "code",
      "source": [
        "import zipfile\n",
        "dataset = '/content/drive/MyDrive/Capstone/dataset_pet.zip'\n",
        "zip_ref = zipfile.ZipFile(dataset, 'r')\n",
        "zip_ref.extractall()\n",
        "zip_ref.close"
      ],
      "metadata": {
        "colab": {
          "base_uri": "https://localhost:8080/"
        },
        "id": "A-q8Rd2kDD3Y",
        "outputId": "71155ac3-46e6-40b1-cdd0-ff9e1821b66e"
      },
      "execution_count": 9,
      "outputs": [
        {
          "output_type": "execute_result",
          "data": {
            "text/plain": [
              "<bound method ZipFile.close of <zipfile.ZipFile filename='/content/drive/MyDrive/Capstone/dataset_pet.zip' mode='r'>>"
            ]
          },
          "metadata": {},
          "execution_count": 9
        }
      ]
    },
    {
      "cell_type": "code",
      "source": [
        "os.listdir('dataset')"
      ],
      "metadata": {
        "colab": {
          "base_uri": "https://localhost:8080/"
        },
        "id": "iQoDjS5zDGUs",
        "outputId": "79202479-ae39-433c-d6c0-52450da387a3"
      },
      "execution_count": 11,
      "outputs": [
        {
          "output_type": "execute_result",
          "data": {
            "text/plain": [
              "['test', 'valid', 'train']"
            ]
          },
          "metadata": {},
          "execution_count": 11
        }
      ]
    },
    {
      "cell_type": "code",
      "source": [
        "# Specify the path to the dataset directory\n",
        "base_dir = 'dataset'\n",
        "train_dir = os.path.join(base_dir, 'train')\n",
        "test_dir = os.path.join(base_dir, 'test')\n",
        "val_dir = os.path.join(base_dir, 'valid')"
      ],
      "metadata": {
        "id": "mnsH0ZqPDIAU"
      },
      "execution_count": 16,
      "outputs": []
    },
    {
      "cell_type": "code",
      "source": [
        "# Specify the path Train\n",
        "train_cat_dir = os.path.join(train_dir, 'cat')\n",
        "train_dog_dir = os.path.join(train_dir, 'dog')\n",
        "train_hamster_dir = os.path.join(train_dir, 'hamster')\n",
        "train_iguana_dir = os.path.join(train_dir, 'iguana')\n",
        "train_mouse_dir = os.path.join(train_dir, 'mouse')\n",
        "train_rabbit_dir = os.path.join(train_dir, 'rabbit')\n",
        "train_seaturtle_dir = os.path.join(train_dir, 'sea_turtle')\n",
        "train_turtle_dir = os.path.join(train_dir, 'turtle')\n"
      ],
      "metadata": {
        "id": "KQp1MEKNDK7_"
      },
      "execution_count": 17,
      "outputs": []
    },
    {
      "cell_type": "code",
      "source": [
        "# Specify the path Test\n",
        "test_cat_dir = os.path.join(test_dir, 'cat')\n",
        "test_dog_dir = os.path.join(test_dir, 'dog')\n",
        "test_hamster_dir = os.path.join(test_dir, 'hamster')\n",
        "test_iguana_dir = os.path.join(test_dir, 'iguana')\n",
        "test_mouse_dir = os.path.join(test_dir, 'mouse')\n",
        "test_rabbit_dir = os.path.join(test_dir, 'rabbit')\n",
        "test_seaturtle_dir = os.path.join(test_dir, 'sea_turtle')\n",
        "test_turtle_dir = os.path.join(test_dir, 'turtle')"
      ],
      "metadata": {
        "id": "JnAKh4D0DNo7"
      },
      "execution_count": 18,
      "outputs": []
    },
    {
      "cell_type": "code",
      "source": [
        "# Specify the path Validation\n",
        "val_cat_dir = os.path.join(val_dir, 'cat')\n",
        "val_dog_dir = os.path.join(val_dir, 'dog')\n",
        "val_hamster_dir = os.path.join(val_dir, 'hamster')\n",
        "val_iguana_dir = os.path.join(val_dir, 'iguana')\n",
        "val_mouse_dir = os.path.join(val_dir, 'mouse')\n",
        "val_rabbit_dir = os.path.join(val_dir, 'rabbit')\n",
        "val_seaturtle_dir = os.path.join(val_dir, 'sea_turtle')\n",
        "val_turtle_dir = os.path.join(val_dir, 'turtle')\n"
      ],
      "metadata": {
        "id": "c2zG4S_lDQX1"
      },
      "execution_count": 20,
      "outputs": []
    },
    {
      "cell_type": "markdown",
      "source": [
        "Preprocess the images"
      ],
      "metadata": {
        "id": "8BD_vAxWDUA9"
      }
    },
    {
      "cell_type": "code",
      "source": [
        "#Data Augmentation\n",
        "train_datagen = ImageDataGenerator(\n",
        "    rescale=1./255,\n",
        "    rotation_range = 20,\n",
        "    width_shift_range=0.1,\n",
        "    height_shift_range=0.1,\n",
        "    horizontal_flip = True,\n",
        "    shear_range = 0.2,\n",
        "    fill_mode = 'nearest')\n",
        "\n",
        "test_datagen = ImageDataGenerator(\n",
        "    rescale=1./255,\n",
        "    rotation_range = 20,\n",
        "    horizontal_flip = True,\n",
        "    width_shift_range=0.1,\n",
        "    height_shift_range=0.1,\n",
        "    shear_range = 0.2,\n",
        "    fill_mode = 'nearest')\n",
        "\n",
        "validation_datagen = ImageDataGenerator(rescale=1./255)"
      ],
      "metadata": {
        "id": "PSulABt3DX2N"
      },
      "execution_count": 21,
      "outputs": []
    },
    {
      "cell_type": "code",
      "source": [
        "# Load and process the training dataset\n",
        "train_generator = train_datagen.flow_from_directory(\n",
        "    train_dir,\n",
        "    target_size=(224, 224),\n",
        "    batch_size=32,\n",
        "    class_mode='categorical',\n",
        "    classes=['cat', 'dog', 'hamster', 'iguana', 'mouse', 'rabbit', 'seaturtle', 'turtle']\n",
        ")"
      ],
      "metadata": {
        "colab": {
          "base_uri": "https://localhost:8080/"
        },
        "id": "OeHZO38vDevc",
        "outputId": "56a8790e-8a7c-4b28-d0a0-49d0650b5a45"
      },
      "execution_count": 22,
      "outputs": [
        {
          "output_type": "stream",
          "name": "stdout",
          "text": [
            "Found 724 images belonging to 8 classes.\n"
          ]
        }
      ]
    },
    {
      "cell_type": "code",
      "source": [
        "# Load and process the testing dataset\n",
        "test_generator = test_datagen.flow_from_directory(\n",
        "    test_dir,\n",
        "    target_size=(224, 224),\n",
        "    batch_size=32,\n",
        "    class_mode='categorical',\n",
        "    classes=['cat', 'dog', 'hamster', 'iguana', 'mouse', 'rabbit', 'seaturtle', 'turtle']\n",
        ")"
      ],
      "metadata": {
        "colab": {
          "base_uri": "https://localhost:8080/"
        },
        "id": "Sm40cKLeDhCv",
        "outputId": "b9002b40-4c45-4527-8439-b8a5b83a86fb"
      },
      "execution_count": 23,
      "outputs": [
        {
          "output_type": "stream",
          "name": "stdout",
          "text": [
            "Found 49 images belonging to 8 classes.\n"
          ]
        }
      ]
    },
    {
      "cell_type": "code",
      "source": [
        "# Load and process the validation dataset\n",
        "validation_generator = test_datagen.flow_from_directory(\n",
        "    validation_dir,\n",
        "    target_size=(224, 224),\n",
        "    batch_size=32,\n",
        "    class_mode='categorical',\n",
        "    classes=['cat', 'dog', 'hamster', 'iguana', 'mouse', 'rabbit', 'seaturtle', 'turtle']\n",
        ")"
      ],
      "metadata": {
        "colab": {
          "base_uri": "https://localhost:8080/"
        },
        "id": "rgBMKJBzDi-e",
        "outputId": "f9810871-31a7-44aa-bbe5-23f3d4a255ab"
      },
      "execution_count": 24,
      "outputs": [
        {
          "output_type": "stream",
          "name": "stdout",
          "text": [
            "Found 62 images belonging to 8 classes.\n"
          ]
        }
      ]
    },
    {
      "cell_type": "markdown",
      "source": [
        "Train Model"
      ],
      "metadata": {
        "id": "bUTIkSaCDl5l"
      }
    },
    {
      "cell_type": "code",
      "source": [
        "# Setting Callbacks\n",
        "class myCallback(tf.keras.callbacks.Callback):\n",
        "    def on_epoch_end(self, epoch, logs={}):\n",
        "        if logs.get('val_accuracy') >= 0.90:\n",
        "            print(\"\\nReached 90% accuracy, so cancelling training!\")\n",
        "            self.model.stop_training = True\n",
        "\n",
        "callbacks = myCallback()"
      ],
      "metadata": {
        "id": "8CShk6i-DoA1"
      },
      "execution_count": 25,
      "outputs": []
    },
    {
      "cell_type": "code",
      "source": [
        "train = model.fit(\n",
        "    train_generator,\n",
        "    steps_per_epoch=train_generator.samples // train_generator.batch_size,\n",
        "    epochs=100,\n",
        "    callbacks=[callbacks],\n",
        "    validation_data=validation_generator,\n",
        "    validation_steps=validation_generator.samples // validation_generator.batch_size\n",
        ")"
      ],
      "metadata": {
        "colab": {
          "base_uri": "https://localhost:8080/"
        },
        "id": "dPjdK6yqDqIF",
        "outputId": "468015fa-1f03-469f-9be9-e895fd86db8c"
      },
      "execution_count": 26,
      "outputs": [
        {
          "output_type": "stream",
          "name": "stdout",
          "text": [
            "Epoch 1/100\n",
            "22/22 [==============================] - 27s 587ms/step - loss: 1.4400 - accuracy: 0.5072 - val_loss: 1.4497 - val_accuracy: 0.4375\n",
            "Epoch 2/100\n",
            "22/22 [==============================] - 12s 531ms/step - loss: 0.8284 - accuracy: 0.7673 - val_loss: 1.0455 - val_accuracy: 0.6250\n",
            "Epoch 3/100\n",
            "22/22 [==============================] - 10s 474ms/step - loss: 0.5855 - accuracy: 0.8454 - val_loss: 0.7754 - val_accuracy: 0.7812\n",
            "Epoch 4/100\n",
            "22/22 [==============================] - 11s 463ms/step - loss: 0.4630 - accuracy: 0.8671 - val_loss: 0.6382 - val_accuracy: 0.8438\n",
            "Epoch 5/100\n",
            "22/22 [==============================] - 11s 507ms/step - loss: 0.3545 - accuracy: 0.9205 - val_loss: 0.3612 - val_accuracy: 0.8750\n",
            "Epoch 6/100\n",
            "22/22 [==============================] - 11s 510ms/step - loss: 0.2996 - accuracy: 0.9335 - val_loss: 0.5062 - val_accuracy: 0.8750\n",
            "Epoch 7/100\n",
            "22/22 [==============================] - 10s 446ms/step - loss: 0.2625 - accuracy: 0.9335 - val_loss: 0.4470 - val_accuracy: 0.7812\n",
            "Epoch 8/100\n",
            "22/22 [==============================] - ETA: 0s - loss: 0.2187 - accuracy: 0.9538\n",
            "Reached 90% accuracy, so cancelling training!\n",
            "22/22 [==============================] - 11s 503ms/step - loss: 0.2187 - accuracy: 0.9538 - val_loss: 0.4430 - val_accuracy: 0.9062\n"
          ]
        }
      ]
    },
    {
      "cell_type": "markdown",
      "source": [
        "Evaluate and Visualize Training Result"
      ],
      "metadata": {
        "id": "AFAjJOLXDyNz"
      }
    },
    {
      "cell_type": "code",
      "source": [
        "# Evaluate the model on the validation dataset\n",
        "loss, accuracy = model.evaluate(validation_generator)\n",
        "print(\"Loss:\", loss)\n",
        "print(\"Accuracy:\", accuracy)\n"
      ],
      "metadata": {
        "colab": {
          "base_uri": "https://localhost:8080/"
        },
        "id": "XK59aezND91l",
        "outputId": "9a3e48b0-cbb9-4d19-93aa-4f12ae51697e"
      },
      "execution_count": 27,
      "outputs": [
        {
          "output_type": "stream",
          "name": "stdout",
          "text": [
            "2/2 [==============================] - 5s 5s/step - loss: 0.3663 - accuracy: 0.9032\n",
            "Loss: 0.3663466274738312\n",
            "Accuracy: 0.9032257795333862\n"
          ]
        }
      ]
    },
    {
      "cell_type": "code",
      "source": [
        "# Plot accuracy and loss\n",
        "epochs = range(1, len(train.history['accuracy']) + 1)\n",
        "\n",
        "plt.plot(epochs, train.history['accuracy'], 'r', label='Training Accuracy')\n",
        "plt.plot(epochs, train.history['val_accuracy'], 'b', label='Validation Accuracy')\n",
        "plt.title('Training and Validation Accuracy')\n",
        "plt.xlabel('Epochs')\n",
        "plt.ylabel('Accuracy')\n",
        "plt.legend()\n",
        "plt.figure()\n",
        "\n",
        "plt.plot(epochs, train.history['loss'], 'r', label='Training Loss')\n",
        "plt.plot(epochs, train.history['val_loss'], 'b', label='Validation Loss')\n",
        "plt.title('Training and Validation Loss')\n",
        "plt.xlabel('Epochs')\n",
        "plt.ylabel('Loss')\n",
        "plt.legend()\n",
        "plt.show()"
      ],
      "metadata": {
        "colab": {
          "base_uri": "https://localhost:8080/",
          "height": 927
        },
        "id": "OP9JEbEpD-W8",
        "outputId": "98b01b5c-205f-4076-9d34-a8b1bc13924a"
      },
      "execution_count": 28,
      "outputs": [
        {
          "output_type": "display_data",
          "data": {
            "text/plain": [
              "<Figure size 640x480 with 1 Axes>"
            ],
            "image/png": "[encoded data removed]"
          },
          "metadata": {}
        },
        {
          "output_type": "display_data",
          "data": {
            "text/plain": [
              "<Figure size 640x480 with 1 Axes>"
            ],
            "image/png": "[encoded data removed]"
          },
          "metadata": {}
        }
      ]
    },
    {
      "cell_type": "markdown",
      "source": [
        "Save and Load the Model"
      ],
      "metadata": {
        "id": "0IRegkhfKz-N"
      }
    },
    {
      "cell_type": "code",
      "source": [
        "# Save the model to a file\n",
        "model.save('example_waste_classification_model.h5')\n",
        "\n",
        "# Load the model from the file\n",
        "loaded_model = tf.keras.models.load_model('example_waste_classification_model.h5')"
      ],
      "metadata": {
        "colab": {
          "base_uri": "https://localhost:8080/"
        },
        "id": "YgBhk5s-Kxsu",
        "outputId": "3e85dadd-ee19-4272-d314-0202b4934f21"
      },
      "execution_count": 29,
      "outputs": [
        {
          "output_type": "stream",
          "name": "stderr",
          "text": [
            "/usr/local/lib/python3.10/dist-packages/keras/src/engine/training.py:3079: UserWarning: You are saving your model as an HDF5 file via `model.save()`. This file format is considered legacy. We recommend using instead the native Keras format, e.g. `model.save('my_model.keras')`.\n",
            "  saving_api.save_model(\n"
          ]
        }
      ]
    },
    {
      "cell_type": "markdown",
      "source": [
        "Testing the Model"
      ],
      "metadata": {
        "id": "ecaUF1KsK4j1"
      }
    },
    {
      "cell_type": "code",
      "source": [
        "from PIL import Image\n",
        "import numpy as np\n",
        "\n",
        "# Path to the folder containing testing images\n",
        "test_folder = test_dir\n",
        "\n",
        "# List all class folders in the testing folder\n",
        "class_folders = ['cat', 'dog', 'hamster', 'iguana', 'mouse', 'rabbit', 'sea_turtle', 'turtle']\n",
        "\n",
        "# Iterate through each class folder\n",
        "for class_folder in class_folders:\n",
        "    # Path to the current class folder\n",
        "    class_path = os.path.join(test_folder, class_folder)\n",
        "\n",
        "    # List all image files in the class folder\n",
        "    test_images = os.listdir(class_path)\n",
        "\n",
        "    # Iterate through each image file\n",
        "    for image_file in test_images:\n",
        "        # Load and preprocess the image\n",
        "        image_path = os.path.join(class_path, image_file)\n",
        "        image = Image.open(image_path)\n",
        "        image = image.resize((224, 224))\n",
        "        image = np.array(image)\n",
        "        image = image / 255.0\n",
        "\n",
        "        # Reshape the image to match the model's input shape\n",
        "        image = np.expand_dims(image, axis=0)\n",
        "\n",
        "        try:\n",
        "            # Perform inference using the model\n",
        "            predictions = model.predict(image)\n",
        "            predicted_class = np.argmax(predictions, axis=1)[0]\n",
        "\n",
        "            # Display the predicted class or perform further processing\n",
        "            print(\"Predicted class for\", image_file, \": \", predicted_class)\n",
        "        except Exception as e:\n",
        "            print(\"Error occurred during inference:\", str(e))"
      ],
      "metadata": {
        "colab": {
          "base_uri": "https://localhost:8080/"
        },
        "id": "N04JxUVyLFcI",
        "outputId": "002e4d1a-34e4-4804-ed49-226f399e912e"
      },
      "execution_count": 31,
      "outputs": [
        {
          "output_type": "stream",
          "name": "stdout",
          "text": [
            "1/1 [==============================] - 0s 124ms/step\n",
            "Predicted class for 76.jpg :  0\n",
            "1/1 [==============================] - 0s 20ms/step\n",
            "Predicted class for 61.jpg :  0\n",
            "1/1 [==============================] - 0s 21ms/step\n",
            "Predicted class for 037.jpg :  0\n",
            "1/1 [==============================] - 0s 18ms/step\n",
            "Predicted class for 12.jpg :  0\n",
            "1/1 [==============================] - 0s 17ms/step\n",
            "Predicted class for 069.jpg :  0\n",
            "1/1 [==============================] - 0s 20ms/step\n",
            "Predicted class for 38.jpg :  0\n",
            "1/1 [==============================] - 0s 18ms/step\n",
            "Predicted class for 001.jpg :  0\n",
            "1/1 [==============================] - 0s 18ms/step\n",
            "Predicted class for 062.jpg :  1\n",
            "1/1 [==============================] - 0s 20ms/step\n",
            "Predicted class for 001.jpg :  1\n",
            "1/1 [==============================] - 0s 19ms/step\n",
            "Predicted class for 044.jpg :  1\n",
            "1/1 [==============================] - 0s 22ms/step\n",
            "Predicted class for 049.jpg :  1\n",
            "1/1 [==============================] - 0s 21ms/step\n",
            "Predicted class for 067.jpg :  1\n",
            "1/1 [==============================] - 0s 20ms/step\n",
            "Predicted class for 013.jpg :  1\n",
            "1/1 [==============================] - 0s 19ms/step\n",
            "Predicted class for 26.jpg :  1\n",
            "1/1 [==============================] - 0s 17ms/step\n",
            "Predicted class for 002.jpg :  2\n",
            "1/1 [==============================] - 0s 19ms/step\n",
            "Predicted class for aug-61-79.jpg :  2\n",
            "1/1 [==============================] - 0s 19ms/step\n",
            "Predicted class for aug-175-45.jpg :  2\n",
            "1/1 [==============================] - 0s 17ms/step\n",
            "Predicted class for aug-85-002.jpg :  2\n",
            "1/1 [==============================] - 0s 18ms/step\n",
            "Predicted class for aug-128-45.jpg :  2\n",
            "1/1 [==============================] - 0s 17ms/step\n",
            "Predicted class for aug-67-081.jpg :  2\n",
            "1/1 [==============================] - 0s 27ms/step\n",
            "Predicted class for 86.jpg :  2\n",
            "1/1 [==============================] - 0s 23ms/step\n",
            "Predicted class for 081.jpg :  2\n",
            "1/1 [==============================] - 0s 17ms/step\n",
            "Predicted class for iguana-iguana_65_4212e14e.jpg :  3\n",
            "1/1 [==============================] - 0s 18ms/step\n",
            "Predicted class for iguana-iguana_59_fcecdae3.jpg :  3\n",
            "1/1 [==============================] - 0s 17ms/step\n",
            "Predicted class for iguana-iguana_6_da20aa9c.jpg :  3\n",
            "1/1 [==============================] - 0s 20ms/step\n",
            "Predicted class for iguana-iguana_72_e4a87b32.jpg :  3\n",
            "1/1 [==============================] - 0s 17ms/step\n",
            "Predicted class for iguana-iguana_77_9f7d5ae3.jpg :  3\n",
            "1/1 [==============================] - 0s 19ms/step\n",
            "Predicted class for iguana-iguana_50_e52d431d.jpg :  3\n",
            "1/1 [==============================] - 0s 22ms/step\n",
            "Predicted class for rattus-rattus_13_8b9738b5.jpg :  1\n",
            "1/1 [==============================] - 0s 18ms/step\n",
            "Predicted class for rattus-rattus_59_fa80fb3a.jpg :  4\n",
            "1/1 [==============================] - 0s 20ms/step\n",
            "Predicted class for rattus-rattus_80_662a3456.jpg :  4\n",
            "1/1 [==============================] - 0s 22ms/step\n",
            "Predicted class for rattus-rattus_20_f4690541.jpg :  4\n",
            "1/1 [==============================] - 0s 20ms/step\n",
            "Predicted class for lepus-americanus_63_277236fc.jpg :  5\n",
            "1/1 [==============================] - 0s 20ms/step\n",
            "Predicted class for lepus-americanus_11_afea05be.jpg :  5\n",
            "1/1 [==============================] - 0s 19ms/step\n",
            "Predicted class for lepus-americanus_15_8f5d00de.jpg :  5\n",
            "1/1 [==============================] - 0s 22ms/step\n",
            "Predicted class for lepus-americanus_5_78d4736e.jpg :  5\n",
            "1/1 [==============================] - 0s 19ms/step\n",
            "Predicted class for lepus-americanus_18_4d3ff9f7.jpg :  5\n",
            "1/1 [==============================] - 0s 17ms/step\n",
            "Predicted class for lepus-americanus_32_c8edb378.jpg :  5\n",
            "1/1 [==============================] - 0s 17ms/step\n",
            "Predicted class for lepus-americanus_8_ecb4bca3.jpg :  5\n",
            "1/1 [==============================] - 0s 18ms/step\n",
            "Predicted class for lepus-americanus_56_66aa61cb.jpg :  5\n",
            "1/1 [==============================] - 0s 20ms/step\n",
            "Predicted class for chelonia-mydas_16_bc013e57.jpg :  7\n",
            "1/1 [==============================] - 0s 18ms/step\n",
            "Predicted class for chelonia-mydas_76_01b54beb.jpg :  7\n",
            "1/1 [==============================] - 0s 21ms/step\n",
            "Predicted class for chelonia-mydas_68_60d15998.jpg :  3\n",
            "1/1 [==============================] - 0s 17ms/step\n",
            "Predicted class for chelonia-mydas_20_bb845f53.jpg :  7\n",
            "1/1 [==============================] - 0s 19ms/step\n",
            "Predicted class for chelonia-mydas_59_21cb31dd.jpg :  7\n",
            "1/1 [==============================] - 0s 22ms/step\n",
            "Predicted class for chelonia-mydas_37_bf411561.jpg :  1\n",
            "1/1 [==============================] - 0s 19ms/step\n",
            "Predicted class for chelonia-mydas_55_991db239.jpg :  7\n",
            "1/1 [==============================] - 0s 21ms/step\n",
            "Predicted class for chelonia-mydas_52_e089851f.jpg :  7\n",
            "1/1 [==============================] - 0s 20ms/step\n",
            "Predicted class for centrochelys-sulcata_62_16500ff9.jpg :  7\n",
            "1/1 [==============================] - 0s 17ms/step\n",
            "Predicted class for centrochelys-sulcata_10_67e31146.jpg :  7\n",
            "1/1 [==============================] - 0s 22ms/step\n",
            "Predicted class for centrochelys-sulcata_55_de0565e4.jpg :  7\n",
            "1/1 [==============================] - 0s 21ms/step\n",
            "Predicted class for centrochelys-sulcata_41_fd443497.jpg :  7\n",
            "1/1 [==============================] - 0s 23ms/step\n",
            "Predicted class for centrochelys-sulcata_5_f79a8187.jpg :  7\n",
            "1/1 [==============================] - 0s 19ms/step\n",
            "Predicted class for centrochelys-sulcata_46_fe4472ab.jpg :  7\n",
            "1/1 [==============================] - 0s 18ms/step\n",
            "Predicted class for centrochelys-sulcata_57_b14c86bf.jpg :  7\n",
            "1/1 [==============================] - 0s 18ms/step\n",
            "Predicted class for centrochelys-sulcata_15_ed2e68cd.jpg :  7\n",
            "1/1 [==============================] - 0s 20ms/step\n",
            "Predicted class for centrochelys-sulcata_72_09c81e1b.jpg :  7\n"
          ]
        }
      ]
    },
    {
      "cell_type": "markdown",
      "source": [
        "Save and Convert to JSON\n"
      ],
      "metadata": {
        "id": "RzFCp1W-L2vv"
      }
    },
    {
      "cell_type": "code",
      "source": [
        "tfjs.converters.save_keras_model(model,\"/content\")"
      ],
      "metadata": {
        "id": "2nR5MdktL5um"
      },
      "execution_count": 32,
      "outputs": []
    },
    {
      "cell_type": "code",
      "source": [
        "!waste model.json"
      ],
      "metadata": {
        "colab": {
          "base_uri": "https://localhost:8080/"
        },
        "id": "P7djftjRL-bB",
        "outputId": "5ebec1ce-2675-45d6-cd3f-4f047089a0af"
      },
      "execution_count": 33,
      "outputs": [
        {
          "output_type": "stream",
          "name": "stdout",
          "text": [
            "/bin/bash: line 1: waste: command not found\n"
          ]
        }
      ]
    },
    {
      "cell_type": "code",
      "source": [
        "from google.colab import files"
      ],
      "metadata": {
        "id": "PUXgG1QQMyJW"
      },
      "execution_count": 36,
      "outputs": []
    },
    {
      "cell_type": "code",
      "source": [
        "files.download('model.json')"
      ],
      "metadata": {
        "colab": {
          "base_uri": "https://localhost:8080/",
          "height": 17
        },
        "id": "B3poNd1sMtr4",
        "outputId": "8d3bd51e-1b80-4e0c-9254-1e8a21d1c396"
      },
      "execution_count": 37,
      "outputs": [
        {
          "output_type": "display_data",
          "data": {
            "text/plain": [
              "<IPython.core.display.Javascript object>"
            ],
            "application/javascript": [
              "\n",
              "    async function download(id, filename, size) {\n",
              "      if (!google.colab.kernel.accessAllowed) {\n",
              "        return;\n",
              "      }\n",
              "      const div = document.createElement('div');\n",
              "      const label = document.createElement('label');\n",
              "      label.textContent = `Downloading \"${filename}\": `;\n",
              "      div.appendChild(label);\n",
              "      const progress = document.createElement('progress');\n",
              "      progress.max = size;\n",
              "      div.appendChild(progress);\n",
              "      document.body.appendChild(div);\n",
              "\n",
              "      const buffers = [];\n",
              "      let downloaded = 0;\n",
              "\n",
              "      const channel = await google.colab.kernel.comms.open(id);\n",
              "      // Send a message to notify the kernel that we're ready.\n",
              "      channel.send({})\n",
              "\n",
              "      for await (const message of channel.messages) {\n",
              "        // Send a message to notify the kernel that we're ready.\n",
              "        channel.send({})\n",
              "        if (message.buffers) {\n",
              "          for (const buffer of message.buffers) {\n",
              "            buffers.push(buffer);\n",
              "            downloaded += buffer.byteLength;\n",
              "            progress.value = downloaded;\n",
              "          }\n",
              "        }\n",
              "      }\n",
              "      const blob = new Blob(buffers, {type: 'application/binary'});\n",
              "      const a = document.createElement('a');\n",
              "      a.href = window.URL.createObjectURL(blob);\n",
              "      a.download = filename;\n",
              "      div.appendChild(a);\n",
              "      a.click();\n",
              "      div.remove();\n",
              "    }\n",
              "  "
            ]
          },
          "metadata": {}
        },
        {
          "output_type": "display_data",
          "data": {
            "text/plain": [
              "<IPython.core.display.Javascript object>"
            ],
            "application/javascript": [
              "download(\"download_dd63a36a-973b-4d3a-926d-51ea0b95e612\", \"model.json\", 17100)"
            ]
          },
          "metadata": {}
        }
      ]
    }
  ]
}